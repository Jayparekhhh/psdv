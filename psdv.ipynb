{
 "cells": [
  {
   "cell_type": "code",
   "execution_count": 3,
   "metadata": {},
   "outputs": [],
   "source": [
    "def mean(l):\n",
    "    s = 0\n",
    "    for i in l:\n",
    "        s = s + i\n",
    "    return s/len(l)\n",
    "def median(data):\n",
    "    sorted_data = sorted(data)\n",
    "    n = len(sorted_data)\n",
    "\n",
    "    if n < 1:\n",
    "        return None  \n",
    "    if n % 2 == 1:\n",
    "        return sorted_data[n // 2] \n",
    "    else:\n",
    "        middle1 = sorted_data[n // 2 - 1]\n",
    "        middle2 = sorted_data[n // 2]\n",
    "        return (middle1 + middle2) / 2\n"
   ]
  },
  {
   "cell_type": "code",
   "execution_count": 4,
   "metadata": {},
   "outputs": [
    {
     "name": "stdout",
     "output_type": "stream",
     "text": [
      "EVEN SUM:  110\n",
      "odd SUM:  100\n",
      "mean:  10.5   median:  10.5   standard deviation:  5.77\n"
     ]
    }
   ],
   "source": [
    "# 1. List Operations and Basic Statistics:\n",
    "import math\n",
    "l = []\n",
    "for i in range(1,21):\n",
    "    l.append(i)\n",
    "even_sum = 0\n",
    "odd_sum = 0\n",
    "for i in l:\n",
    "    if i%2 == 0:\n",
    "        even_sum = even_sum + i\n",
    "    else:\n",
    "        odd_sum = odd_sum + i\n",
    "mean = mean(l)\n",
    "median = median(l)\n",
    "var = 0\n",
    "for i in l:\n",
    "    var = var + (mean -i )**2\n",
    "var = var/len(l)\n",
    "sd = math.sqrt(var)\n",
    "sd = round(sd,2)\n",
    "print(\"EVEN SUM: \",even_sum)\n",
    "print(\"odd SUM: \",odd_sum)\n",
    "print(\"mean: \", mean,\"  median: \",median, \"  standard deviation: \",sd)\n",
    "\n"
   ]
  },
  {
   "cell_type": "code",
   "execution_count": 5,
   "metadata": {},
   "outputs": [],
   "source": [
    "# 2. Mutable vs. Immutable Data Types:\n"
   ]
  },
  {
   "cell_type": "code",
   "execution_count": 6,
   "metadata": {},
   "outputs": [
    {
     "ename": "ValueError",
     "evalue": "invalid literal for int() with base 10: ''",
     "output_type": "error",
     "traceback": [
      "\u001b[1;31m---------------------------------------------------------------------------\u001b[0m",
      "\u001b[1;31mValueError\u001b[0m                                Traceback (most recent call last)",
      "Cell \u001b[1;32mIn[6], line 9\u001b[0m\n\u001b[0;32m      7\u001b[0m         \u001b[38;5;28;01mreturn\u001b[39;00m(fib(x\u001b[38;5;241m-\u001b[39m\u001b[38;5;241m1\u001b[39m) \u001b[38;5;241m+\u001b[39m fib(x\u001b[38;5;241m-\u001b[39m\u001b[38;5;241m2\u001b[39m))\n\u001b[0;32m      8\u001b[0m l \u001b[38;5;241m=\u001b[39m []\n\u001b[1;32m----> 9\u001b[0m \u001b[38;5;28;01mfor\u001b[39;00m i \u001b[38;5;129;01min\u001b[39;00m \u001b[38;5;28mrange\u001b[39m(\u001b[38;5;28;43mint\u001b[39;49m\u001b[43m(\u001b[49m\u001b[38;5;28;43minput\u001b[39;49m\u001b[43m(\u001b[49m\u001b[43m)\u001b[49m\u001b[43m)\u001b[49m):\n\u001b[0;32m     10\u001b[0m     l\u001b[38;5;241m.\u001b[39mappend(fib(i))\n\u001b[0;32m     11\u001b[0m \u001b[38;5;28mprint\u001b[39m(l)\n",
      "\u001b[1;31mValueError\u001b[0m: invalid literal for int() with base 10: ''"
     ]
    }
   ],
   "source": [
    "# 3. Fibonacci Sequence:\n",
    "import matplotlib.pyplot as plt\n",
    "def fib(x):\n",
    "    if x<=1:\n",
    "        return 1\n",
    "    else:\n",
    "        return(fib(x-1) + fib(x-2))\n",
    "l = []\n",
    "for i in range(int(input())):\n",
    "    l.append(fib(i))\n",
    "print(l)\n",
    "plt.plot(l)"
   ]
  },
  {
   "cell_type": "code",
   "execution_count": 40,
   "metadata": {},
   "outputs": [
    {
     "name": "stdout",
     "output_type": "stream",
     "text": [
      "[3, 5, 7, 6, 11, 13]\n",
      "[3, 5, 6, 11, 13]\n",
      "[13, 11, 6, 5, 3]\n",
      "mean: 7.6\n",
      "median: 6\n"
     ]
    }
   ],
   "source": [
    "#4. List Manipulation\n",
    "l = [3,5,7,9,11,13]\n",
    "l[3] = 6\n",
    "print(l)\n",
    "l.remove(7)\n",
    "print(l)\n",
    "l = l[::-1]\n",
    "print(l)\n",
    "sum = 0\n",
    "mean= mean(l)\n",
    "print(\"mean:\", mean)\n",
    "median = median(l)\n",
    "print(\"median:\", median)"
   ]
  },
  {
   "cell_type": "code",
   "execution_count": 13,
   "metadata": {},
   "outputs": [
    {
     "name": "stdout",
     "output_type": "stream",
     "text": [
      "[50, 70, 80, 60, 10, 12]\n",
      "mean 47.0\n",
      "Smallest Number: 10\n",
      "Largest Number 80\n"
     ]
    },
    {
     "data": {
      "text/plain": [
       "(array([2., 0., 0., 0., 0., 0., 0., 0., 0., 0., 0., 0., 0., 0., 0., 0., 0.,\n",
       "        1., 0., 0., 0., 1., 0., 0., 0., 1., 0., 0., 0., 1.]),\n",
       " array([10.        , 12.33333333, 14.66666667, 17.        , 19.33333333,\n",
       "        21.66666667, 24.        , 26.33333333, 28.66666667, 31.        ,\n",
       "        33.33333333, 35.66666667, 38.        , 40.33333333, 42.66666667,\n",
       "        45.        , 47.33333333, 49.66666667, 52.        , 54.33333333,\n",
       "        56.66666667, 59.        , 61.33333333, 63.66666667, 66.        ,\n",
       "        68.33333333, 70.66666667, 73.        , 75.33333333, 77.66666667,\n",
       "        80.        ]),\n",
       " <BarContainer object of 30 artists>)"
      ]
     },
     "execution_count": 13,
     "metadata": {},
     "output_type": "execute_result"
    },
    {
     "data": {
      "image/png": "[encoded data removed]",
      "text/plain": [
       "<Figure size 640x480 with 1 Axes>"
      ]
     },
     "metadata": {},
     "output_type": "display_data"
    }
   ],
   "source": [
    "#5. User Input and Basic Statistics\n",
    "l = list(map(int, input().split(\",\")))\n",
    "print(l)\n",
    "print(\"mean\", mean(l))\n",
    "l.sort()\n",
    "print(\"Smallest Number:\", l[0])\n",
    "print(\"Largest Number\", l[-1])\n",
    "plt.hist(l, bins=30, color='skyblue', edgecolor='black')"
   ]
  },
  {
   "cell_type": "code",
   "execution_count": 22,
   "metadata": {},
   "outputs": [
    {
     "name": "stdout",
     "output_type": "stream",
     "text": [
      "True\n"
     ]
    }
   ],
   "source": [
    "#6. Palindrome Check:\n",
    "str = input()\n",
    "s = \"\".join(ch for ch in str if ch != \" \")\n",
    "for i in range((len(s))//2):\n",
    "    if s.lower()[i] == s.lower()[len(s) - 1 - i]:\n",
    "        pass\n",
    "    else:\n",
    "        print(\"False\")\n",
    "        exit()\n",
    "else:\n",
    "    print(\"True\")"
   ]
  },
  {
   "cell_type": "code",
   "execution_count": null,
   "metadata": {},
   "outputs": [],
   "source": [
    "#7. Dictionary Operations:\n"
   ]
  },
  {
   "cell_type": "code",
   "execution_count": 24,
   "metadata": {},
   "outputs": [
    {
     "data": {
      "text/plain": [
       "<matplotlib.collections.PathCollection at 0x21a59a7a5d0>"
      ]
     },
     "execution_count": 24,
     "metadata": {},
     "output_type": "execute_result"
    },
    {
     "data": {
      "image/png": "[encoded data removed]",
      "text/plain": [
       "<Figure size 640x480 with 1 Axes>"
      ]
     },
     "metadata": {},
     "output_type": "display_data"
    }
   ],
   "source": [
    "#8. Tuple List Creation\n",
    "l = []\n",
    "for i in range(int(input())):\n",
    "    l.append((i,i**2))\n",
    "x = []\n",
    "for i in l:\n",
    "    x.append(i[0])\n",
    "y = []\n",
    "for i in l:\n",
    "    y.append(i[1])\n",
    "plt.scatter(x,y)\n"
   ]
  },
  {
   "cell_type": "code",
   "execution_count": 2,
   "metadata": {},
   "outputs": [
    {
     "name": "stdout",
     "output_type": "stream",
     "text": [
      "{'a': 10, 'b': 25, 'c': 15}\n"
     ]
    }
   ],
   "source": [
    "#9. Merging Dictonaries\n",
    "dict1 = {'a': 10, 'b': 20}\n",
    "dict2 = {'b': 5, 'c': 15}\n",
    "for i in dict2:\n",
    "    if i in dict1:\n",
    "        pass\n",
    "        dict1[i] = dict1[i] + dict2[i]\n",
    "    else:\n",
    "        dict1[i] = dict2[i]\n",
    "print(dict1)"
   ]
  },
  {
   "cell_type": "code",
   "execution_count": null,
   "metadata": {},
   "outputs": [
    {
     "name": "stdout",
     "output_type": "stream",
     "text": [
      "{'a': 23, ' ': 29, 'p': 9, 'r': 9, 'g': 5, 'h': 6, 'i': 5, 's': 10, 'o': 10, 'u': 4, 'f': 3, 'e': 13, 'n': 10, 't': 6, 'c': 4, 'd': 5, 'v': 1, 'l': 4, '.': 2, 'b': 2, '-': 1, 'y': 1, ',': 1, 'm': 1}\n"
     ]
    },
    {
     "data": {
      "image/png": "[encoded data removed]",
      "text/plain": [
       "<Figure size 640x480 with 1 Axes>"
      ]
     },
     "metadata": {},
     "output_type": "display_data"
    }
   ],
   "source": [
    "#10. Character Frequency:\n",
    "import matplotlib.pyplot as plt\n",
    "str = input()\n",
    "str = str.lower()\n",
    "d = {}\n",
    "for i in str:\n",
    "    if i == ' ' or i == '.':\n",
    "        continue\n",
    "    if i in d:\n",
    "        d[i] = d[i] + 1\n",
    "    else:\n",
    "        d[i] = 1\n",
    "print(d)\n",
    "names = list(d.keys())\n",
    "values = list(d.values())\n",
    "\n",
    "plt.bar(range(len(d)), values, tick_label=names)\n",
    "plt.show()\n"
   ]
  },
  {
   "cell_type": "code",
   "execution_count": null,
   "metadata": {},
   "outputs": [
    {
     "name": "stdout",
     "output_type": "stream",
     "text": [
      "[1, 2, 4, 5, 8, 7, 9, 6]\n",
      "MEAN:  5.25\n",
      "MEDIAN:  5.5\n"
     ]
    }
   ],
   "source": [
    "#11. Remove Duplicates:\n",
    "L = eval(input())\n",
    "l = []\n",
    "for i in L:\n",
    "    if l.count(i) == 0:\n",
    "        l.append(i)\n",
    "print(l)\n",
    "print('MEAN: ',mean(l))\n",
    "print('MEDIAN: ',median(l))"
   ]
  },
  {
   "cell_type": "code",
   "execution_count": 24,
   "metadata": {},
   "outputs": [
    {
     "ename": "TypeError",
     "evalue": "'int' object is not iterable",
     "output_type": "error",
     "traceback": [
      "\u001b[1;31m---------------------------------------------------------------------------\u001b[0m",
      "\u001b[1;31mTypeError\u001b[0m                                 Traceback (most recent call last)",
      "Cell \u001b[1;32mIn[24], line 7\u001b[0m\n\u001b[0;32m      5\u001b[0m \u001b[38;5;28mlist\u001b[39m \u001b[38;5;241m=\u001b[39m []\n\u001b[0;32m      6\u001b[0m d \u001b[38;5;241m=\u001b[39m {\u001b[38;5;124m'\u001b[39m\u001b[38;5;124ma\u001b[39m\u001b[38;5;124m'\u001b[39m,\u001b[38;5;124m'\u001b[39m\u001b[38;5;124me\u001b[39m\u001b[38;5;124m'\u001b[39m,\u001b[38;5;124m'\u001b[39m\u001b[38;5;124mi\u001b[39m\u001b[38;5;124m'\u001b[39m,\u001b[38;5;124m'\u001b[39m\u001b[38;5;124mo\u001b[39m\u001b[38;5;124m'\u001b[39m,\u001b[38;5;124m'\u001b[39m\u001b[38;5;124mu\u001b[39m\u001b[38;5;124m'\u001b[39m,\u001b[38;5;124m'\u001b[39m\u001b[38;5;124mA\u001b[39m\u001b[38;5;124m'\u001b[39m,\u001b[38;5;124m'\u001b[39m\u001b[38;5;124mE\u001b[39m\u001b[38;5;124m'\u001b[39m,\u001b[38;5;124m'\u001b[39m\u001b[38;5;124mI\u001b[39m\u001b[38;5;124m'\u001b[39m,\u001b[38;5;124m'\u001b[39m\u001b[38;5;124mO\u001b[39m\u001b[38;5;124m'\u001b[39m,\u001b[38;5;124m'\u001b[39m\u001b[38;5;124mU\u001b[39m\u001b[38;5;124m'\u001b[39m}\n\u001b[1;32m----> 7\u001b[0m \u001b[38;5;28;43;01mfor\u001b[39;49;00m\u001b[43m \u001b[49m\u001b[43mi\u001b[49m\u001b[43m \u001b[49m\u001b[38;5;129;43;01min\u001b[39;49;00m\u001b[43m \u001b[49m\u001b[43ml\u001b[49m\u001b[43m:\u001b[49m\n\u001b[0;32m      8\u001b[0m \u001b[43m    \u001b[49m\u001b[43mm\u001b[49m\u001b[43m \u001b[49m\u001b[38;5;241;43m=\u001b[39;49m\u001b[43m \u001b[49m\u001b[38;5;28;43mlen\u001b[39;49m\u001b[43m(\u001b[49m\u001b[43mi\u001b[49m\u001b[43m)\u001b[49m\n\u001b[0;32m      9\u001b[0m \u001b[43m    \u001b[49m\u001b[43mc\u001b[49m\u001b[43m \u001b[49m\u001b[38;5;241;43m=\u001b[39;49m\u001b[43m \u001b[49m\u001b[38;5;28;43mmax\u001b[39;49m\u001b[43m(\u001b[49m\u001b[43mc\u001b[49m\u001b[43m,\u001b[49m\u001b[43mm\u001b[49m\u001b[43m)\u001b[49m\n",
      "\u001b[1;31mTypeError\u001b[0m: 'int' object is not iterable"
     ]
    }
   ],
   "source": [
    "#12. String Operations:\n",
    "l = eval(input())\n",
    "c = 0\n",
    "count = 0\n",
    "list = []\n",
    "d = {'a','e','i','o','u','A','E','I','O','U'}\n",
    "for i in l:\n",
    "    m = len(i)\n",
    "    c = max(c,m)\n",
    "    list.append(m)\n",
    "    if i[0] in d:\n",
    "        count = count + 1\n",
    "print(c)\n",
    "print(count)\n",
    "plt.hist(list,bins=range(1, max(list) + 2), edgecolor='black', alpha=1)\n",
    "plt.show()\n"
   ]
  },
  {
   "cell_type": "markdown",
   "metadata": {},
   "source": []
  },
  {
   "cell_type": "code",
   "execution_count": 27,
   "metadata": {},
   "outputs": [
    {
     "data": {
      "text/plain": [
       "[{'name': 'Bob', 'age': 22}, {'name': 'Alice', 'age': 25}]"
      ]
     },
     "execution_count": 27,
     "metadata": {},
     "output_type": "execute_result"
    }
   ],
   "source": [
    "#13. Sorting Dictionaries\n",
    "\n",
    "data = eval(input())\n",
    "\n",
    "data = sorted(data, key = lambda x: x['age'])\n",
    "\n",
    "data"
   ]
  },
  {
   "cell_type": "code",
   "execution_count": 38,
   "metadata": {},
   "outputs": [
    {
     "name": "stdout",
     "output_type": "stream",
     "text": [
      "['brown', 'dog', 'jumps', 'quick', 'the']\n"
     ]
    },
    {
     "data": {
      "image/png": "[encoded data removed]",
      "text/plain": [
       "<Figure size 640x480 with 1 Axes>"
      ]
     },
     "metadata": {},
     "output_type": "display_data"
    }
   ],
   "source": [
    "#14. Word Filtering and Sorting:\n",
    "import matplotlib.pyplot as plt\n",
    "l = input().split()\n",
    "for i in l:\n",
    "    if len(i)<=4:\n",
    "        l.remove(i)\n",
    "l = sorted(l)\n",
    "print(l)\n",
    "ll = [len(word) for word in l]\n",
    "\n",
    "plt.bar(range(len(l)), ll, tick_label=l, color='skyblue', edgecolor='black')\n",
    "plt.title(\"Word Lengths Bar Graph\")\n",
    "plt.xlabel(\"Words\")\n",
    "plt.ylabel(\"Length\")\n",
    "plt.show()\n",
    "\n"
   ]
  },
  {
   "cell_type": "code",
   "execution_count": 44,
   "metadata": {},
   "outputs": [
    {
     "name": "stdout",
     "output_type": "stream",
     "text": [
      "['enlist', 'inlets']\n"
     ]
    }
   ],
   "source": [
    "#15. Anagram Finder:\n",
    "l = []\n",
    "word = \"listen\"\n",
    "words = [\"enlist\", \"google\", \"inlets\", \"banana\"]\n",
    "for i in words:\n",
    "    if ''.join(sorted(i)) == ''.join(sorted(word)):\n",
    "        l.append(i)\n",
    "print(l)"
   ]
  },
  {
   "cell_type": "code",
   "execution_count": 48,
   "metadata": {},
   "outputs": [
    {
     "name": "stdout",
     "output_type": "stream",
     "text": [
      "[33, 5, 7, 12, 45, 78, 18, 23, 56, 89]\n",
      "[]\n",
      "[33, 5, 7, 12, 45, 78, 18, 23, 56, 89]\n"
     ]
    }
   ],
   "source": [
    "#16. Set Operations:\n",
    "a = {12, 45, 7, 18, 33, 89, 23, 56, 78, 5}\n",
    "b = {3, 14, 27, 59, 81, 10, 42, 66, 37, 90}\n",
    "\n",
    "union = []\n",
    "intersection = []\n",
    "symmetric_difference = []\n",
    "c = []\n",
    "for i in a:\n",
    "    if a in b:\n",
    "        intersection.append(i)\n",
    "    else:\n",
    "        union.append(i)\n",
    "for i in union:\n",
    "    if i not in intersection:\n",
    "        symmetric_difference.append(i)\n",
    "print(union)\n",
    "print(intersection)\n",
    "print(symmetric_difference)\n",
    "\n",
    "    \n",
    "        "
   ]
  },
  {
   "cell_type": "code",
   "execution_count": 63,
   "metadata": {},
   "outputs": [
    {
     "name": "stdout",
     "output_type": "stream",
     "text": [
      "275\n"
     ]
    }
   ],
   "source": [
    "#17. #File Operations:\n",
    "\n",
    "f = open('file.txt','a')\n",
    "l = [\"1\", \"2\", \"3\", \"4\", \"5\", \"6\", \"7\", \"8\", \"9\", \"10\"]\n",
    "for i in l:\n",
    "    f.write(i + '\\n')\n",
    "f.close()\n",
    "f = open('file.txt')\n",
    "sum = 0\n",
    "for i in f:\n",
    "    sum = sum + int(i)\n",
    "print(sum)"
   ]
  },
  {
   "cell_type": "code",
   "execution_count": 1,
   "metadata": {},
   "outputs": [
    {
     "ename": "FileNotFoundError",
     "evalue": "[Errno 2] No such file or directory: 'f.txt'",
     "output_type": "error",
     "traceback": [
      "\u001b[1;31m---------------------------------------------------------------------------\u001b[0m",
      "\u001b[1;31mFileNotFoundError\u001b[0m                         Traceback (most recent call last)",
      "Cell \u001b[1;32mIn[1], line 2\u001b[0m\n\u001b[0;32m      1\u001b[0m \u001b[38;5;28;01mimport\u001b[39;00m \u001b[38;5;21;01mmatplotlib\u001b[39;00m\u001b[38;5;21;01m.\u001b[39;00m\u001b[38;5;21;01mpyplot\u001b[39;00m \u001b[38;5;28;01mas\u001b[39;00m \u001b[38;5;21;01mplt\u001b[39;00m\n\u001b[1;32m----> 2\u001b[0m f \u001b[38;5;241m=\u001b[39m \u001b[38;5;28;43mopen\u001b[39;49m\u001b[43m(\u001b[49m\u001b[38;5;124;43m'\u001b[39;49m\u001b[38;5;124;43mf.txt\u001b[39;49m\u001b[38;5;124;43m'\u001b[39;49m\u001b[43m,\u001b[49m\u001b[43m \u001b[49m\u001b[38;5;124;43m'\u001b[39;49m\u001b[38;5;124;43mr\u001b[39;49m\u001b[38;5;124;43m'\u001b[39;49m\u001b[43m)\u001b[49m\n\u001b[0;32m      3\u001b[0m d \u001b[38;5;241m=\u001b[39m {}\n\u001b[0;32m      4\u001b[0m \u001b[38;5;28;01mfor\u001b[39;00m i \u001b[38;5;129;01min\u001b[39;00m \u001b[38;5;28mstr\u001b[39m:\n",
      "File \u001b[1;32m~\\AppData\\Roaming\\Python\\Python313\\site-packages\\IPython\\core\\interactiveshell.py:324\u001b[0m, in \u001b[0;36m_modified_open\u001b[1;34m(file, *args, **kwargs)\u001b[0m\n\u001b[0;32m    317\u001b[0m \u001b[38;5;28;01mif\u001b[39;00m file \u001b[38;5;129;01min\u001b[39;00m {\u001b[38;5;241m0\u001b[39m, \u001b[38;5;241m1\u001b[39m, \u001b[38;5;241m2\u001b[39m}:\n\u001b[0;32m    318\u001b[0m     \u001b[38;5;28;01mraise\u001b[39;00m \u001b[38;5;167;01mValueError\u001b[39;00m(\n\u001b[0;32m    319\u001b[0m         \u001b[38;5;124mf\u001b[39m\u001b[38;5;124m\"\u001b[39m\u001b[38;5;124mIPython won\u001b[39m\u001b[38;5;124m'\u001b[39m\u001b[38;5;124mt let you open fd=\u001b[39m\u001b[38;5;132;01m{\u001b[39;00mfile\u001b[38;5;132;01m}\u001b[39;00m\u001b[38;5;124m by default \u001b[39m\u001b[38;5;124m\"\u001b[39m\n\u001b[0;32m    320\u001b[0m         \u001b[38;5;124m\"\u001b[39m\u001b[38;5;124mas it is likely to crash IPython. If you know what you are doing, \u001b[39m\u001b[38;5;124m\"\u001b[39m\n\u001b[0;32m    321\u001b[0m         \u001b[38;5;124m\"\u001b[39m\u001b[38;5;124myou can use builtins\u001b[39m\u001b[38;5;124m'\u001b[39m\u001b[38;5;124m open.\u001b[39m\u001b[38;5;124m\"\u001b[39m\n\u001b[0;32m    322\u001b[0m     )\n\u001b[1;32m--> 324\u001b[0m \u001b[38;5;28;01mreturn\u001b[39;00m \u001b[43mio_open\u001b[49m\u001b[43m(\u001b[49m\u001b[43mfile\u001b[49m\u001b[43m,\u001b[49m\u001b[43m \u001b[49m\u001b[38;5;241;43m*\u001b[39;49m\u001b[43margs\u001b[49m\u001b[43m,\u001b[49m\u001b[43m \u001b[49m\u001b[38;5;241;43m*\u001b[39;49m\u001b[38;5;241;43m*\u001b[39;49m\u001b[43mkwargs\u001b[49m\u001b[43m)\u001b[49m\n",
      "\u001b[1;31mFileNotFoundError\u001b[0m: [Errno 2] No such file or directory: 'f.txt'"
     ]
    }
   ],
   "source": [
    "import matplotlib.pyplot as plt\n",
    "f = open('f.txt', 'r')\n",
    "d = {}\n",
    "for i in str:\n",
    "    if i == ' ' or i == '.':\n",
    "        continue\n",
    "    if i in d:\n",
    "        d[i] = d[i] + 1\n",
    "    else:\n",
    "        d[i] = 1\n",
    "print(d)\n",
    "names = list(d.keys())\n",
    "values = list(d.values())\n",
    "\n",
    "plt.bar(range(len(d)), values, tick_label=names)\n",
    "plt.show()\n"
   ]
  },
  {
   "cell_type": "code",
   "execution_count": 7,
   "metadata": {},
   "outputs": [
    {
     "ename": "TypeError",
     "evalue": "'float' object is not callable",
     "output_type": "error",
     "traceback": [
      "\u001b[1;31m---------------------------------------------------------------------------\u001b[0m",
      "\u001b[1;31mTypeError\u001b[0m                                 Traceback (most recent call last)",
      "Cell \u001b[1;32mIn[7], line 10\u001b[0m\n\u001b[0;32m      7\u001b[0m \u001b[38;5;28;01mwith\u001b[39;00m \u001b[38;5;28mopen\u001b[39m(\u001b[38;5;124m\"\u001b[39m\u001b[38;5;124mnumbers.txt\u001b[39m\u001b[38;5;124m\"\u001b[39m, \u001b[38;5;124m\"\u001b[39m\u001b[38;5;124mr\u001b[39m\u001b[38;5;124m\"\u001b[39m) \u001b[38;5;28;01mas\u001b[39;00m file:\n\u001b[0;32m      8\u001b[0m     numbers \u001b[38;5;241m=\u001b[39m [\u001b[38;5;28mint\u001b[39m(line\u001b[38;5;241m.\u001b[39mstrip()) \u001b[38;5;28;01mfor\u001b[39;00m line \u001b[38;5;129;01min\u001b[39;00m file]\n\u001b[1;32m---> 10\u001b[0m \u001b[43mmean\u001b[49m\u001b[43m(\u001b[49m\u001b[43mnumbers\u001b[49m\u001b[43m)\u001b[49m\n",
      "\u001b[1;31mTypeError\u001b[0m: 'float' object is not callable"
     ]
    }
   ],
   "source": [
    "#19. Random Number Generation:\n",
    "import random\n",
    "numbers = [random.randint(1, 50) for _ in range(100)]\n",
    "with open(\"numbers.txt\", \"w\") as file:\n",
    "    file.write(\"\\n\".join(map(str, numbers)))\n",
    "\n",
    "with open(\"numbers.txt\", \"r\") as file:\n",
    "    numbers = [int(line.strip()) for line in file]\n",
    "\n",
    "mean(numbers)\n",
    "\n"
   ]
  },
  {
   "cell_type": "code",
   "execution_count": null,
   "metadata": {},
   "outputs": [],
   "source": []
  }
 ],
 "metadata": {
  "kernelspec": {
   "display_name": "Python 3",
   "language": "python",
   "name": "python3"
  },
  "language_info": {
   "codemirror_mode": {
    "name": "ipython",
    "version": 3
   },
   "file_extension": ".py",
   "mimetype": "text/x-python",
   "name": "python",
   "nbconvert_exporter": "python",
   "pygments_lexer": "ipython3",
   "version": "3.13.0"
  }
 },
 "nbformat": 4,
 "nbformat_minor": 2
}
